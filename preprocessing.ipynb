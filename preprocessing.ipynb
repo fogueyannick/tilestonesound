from pydub import AudioSegment

import numpy as np

import pandas as pd

import os

from glob import glob

from os import listdir

from os.path import isfile, join

import librosa

import librosa as lr

from pathlib import Path

import matplotlib.pyplot as plt

import soundfile as sf

from scipy.io import wavfile

from scipy.signal import butter, filtfilt, find_peaks

from pydub import AudioSegment

from pydub.effects import normalize

from scipy.fft import fft, fftfreq
from scipy.optimize import curve_fit
from scipy.signal import hilbert


import dash
from dash import dcc, html
from dash.dependencies import Input, Output

import plotly.express as px

import sounddevice as sd
from IPython.display import Audio

from sklearn.preprocessing import StandardScaler
from sklearn.discriminant_analysis import LinearDiscriminantAnalysis as LDA
from sklearn.decomposition import PCA

