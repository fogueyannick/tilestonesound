#import des bibliothèques
import numpy as np
import os
import librosa

from os import listdir
from os.path import isfile, join
from pathlib import Path
from scipy.signal import butter, filtfilt


#Chargement des sons initiaux
data_dir_ini = './raw_data/raw_sound_ini/'

#Convertion des sons en mono
sounds_name_ini = [f for f in listdir(data_dir_ini) if isfile(join(data_dir_ini, f))and f.endswith(".wav")]

for sound in sounds_name_ini:
    path = data_dir_ini+sound
    y, sr = librosa.load(path, mono=False)
    y_mono = y[0, :]
    file_name_out = "./data_traited/ini/raw_data_mono/" + Path(sound).stem + "_mono.wav"
    sf.write(file_name_out, y_mono, sr)

#Fonction pour filtrer les bruits
def filter_sound (audio, cutoff, order, state):
    
    sounds_name = [f for f in listdir(audio) if isfile(join(audio, f)) and f.endswith(".wav")]

    for sound in sounds_name:

        sound_name = audio + sound

        y, sr = librosa.load(sound_name)

        #Sound is previously normalized
        max_val = np.max(np.abs(y))
        y_norm = y / max_val

        #Passe haut
        nyquist = 0.5 * sr
        normal_cutoff = cutoff / nyquist
        b, a = butter(order, normal_cutoff, btype='high', analog=False)
        filtered_audio = filtfilt(b, a, y_norm)

        #Extraction du fichier
        file_name_out = "./data_traited/"+state+"/raw_data_filtered/" + sound.replace("_mono", "_filtered")

        sf.write(file_name_out, filtered_audio, sr )

#Filtrage des bruits
sr =22500 #Fréquence d'échantillonnage
cutoff = 100  # Fréquence de coupure en Hz
order = 4  # Ordre du filtre

data_dir_ini = './data_traited/ini/raw_data_mono/' #Dossier avec les sons

filter_sound (data_dir_ini, cutoff, order, "ini")

#Fonction pour normalisation en temps
def remove_silence(data, threshold, duration, lag, attack, state):

    sounds_name = [f for f in listdir(data) if isfile(join(data, f)) and f.endswith(".wav")]

    for sound in sounds_name:
        y, sr = librosa.load(data+sound)

        #Sound is previously normalized
        max_val = np.max(np.abs(y))
        y_norm = y / max_val

        #Sound is then extruded
        raw_start = np.min(np.where(np.abs(y_norm)>threshold))
        min_near_first = np.argmin(np.abs(y_norm[raw_start-lag : raw_start])) 
        start = raw_start - lag + min_near_first
        sig_without_silence = y_norm[start : start + duration]
        sig_without_attack = sig_without_silence[int(attack*sr) : ]

        file_name_out = "./data_traited/"+state+"/raw_data_time_norm/" + sound.replace("_filtered", "_norm_time")

        sf.write(file_name_out, sig_without_attack, sr)

#Normalisation en temps après filtrage
data_dir_ini = './data_traited/ini/raw_data_filtered/' #chargement des fichiers filtrés

sr = 22500
threshold = 0.5e-01
duration = int(0.25 * sr)  # durée du temps 25 ms
lag = 5 # in samples

attack = 0.009 #définition de la durée de l'attaque

remove_silence(data_dir_ini, threshold, duration, lag, attack, "ini") #Suppression des silences

#Fonction de normalisation en amplitude
def ampl_normalize_audio(data_dir, state):

    sounds_name = [f for f in listdir(data_dir) if isfile(join(data_dir, f)) and f.endswith(".wav")]

    for sound in sounds_name:
        sound_name = data_dir + sound

        y, sr = librosa.load(sound_name)

        max_val = np.max(np.abs(y))
        normalized_audio = y / max_val

        file_name_out = "./data_traited/"+state+"/raw_data_ampl_norm/" + sound.replace("_norm_time", "_ampl_norm")

        sf.write(file_name_out, normalized_audio, sr )

#Normalisation en amplitude
data_dir_ini = './data_traited/ini/raw_data_time_norm/'

ampl_normalize_audio(data_dir_ini, "ini")

#Affichage des sons normalisés en temps et en amplitude
data_dir_ini = './data_traited/ini/raw_data_ampl_norm/'
audio_files_ini = glob(data_dir_ini+'/*.wav')

for file in range(0, len(audio_files_ini),1):
    audio, sfreq = lr.load(audio_files_ini[file], sr=22500)
    fig,ax = plt.subplots()
    time = np.arange(0,len(audio))/sfreq
    ax.plot(time,audio, label=audio_files_ini[file])
    print(audio_files_ini[file])
    print(len(audio_files_ini[file]))
    plt.show()
